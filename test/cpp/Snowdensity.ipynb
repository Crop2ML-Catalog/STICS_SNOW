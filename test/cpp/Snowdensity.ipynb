{
 "cells": [
  {
   "cell_type": "markdown",
   "id": "73951351",
   "metadata": {},
   "source": [
    "# Automatic generation of Notebook using PyCropML\n",
    "    This notebook implements a crop model."
   ]
  },
  {
   "cell_type": "markdown",
   "id": "2e327998",
   "metadata": {},
   "source": [
    "### Model Snowdensity"
   ]
  },
  {
   "cell_type": "code",
   "execution_count": null,
   "id": "529853b3",
   "metadata": {},
   "outputs": [],
   "source": [
    "#include \"..\\..\\src\\cpp\\STICS_SNOW\\SnowState.cpp\"\n",
    "#include \"..\\..\\src\\cpp\\STICS_SNOW\\SnowRate.cpp\"\n",
    "#include \"..\\..\\src\\cpp\\STICS_SNOW\\SnowAuxiliary.cpp\"\n",
    "#include \"..\\..\\src\\cpp\\STICS_SNOW\\SnowExogenous.cpp\"\n",
    "#include \"..\\..\\src\\cpp\\STICS_SNOW\\Snowdensity.cpp\"\n"
   ]
  },
  {
   "cell_type": "code",
   "execution_count": null,
   "id": "75e01ab4",
   "metadata": {},
   "outputs": [],
   "source": [
    "class Test\n",
    "{\n",
    "    private:\n",
    "        SnowState s;\n",
    "        SnowState s1;\n",
    "        SnowRate r;\n",
    "        SnowAuxiliary a;\n",
    "        SnowExogenous ex;\n",
    "        Snowdensity mod;\n",
    "    public:\n",
    "        //check snow model\n",
    "\n",
    "        // test_snow1\n",
    "        void test_snow1()\n",
    "        {\n",
    "            this->s1.setSdry(0.05);\n",
    "            this->s1.setSwet(2);\n",
    "            this->s1.setSdepth(0.010);\n",
    "            this->s1.setps(200);\n",
    "            this->mod.Calculate_Model(s,s1, r, a, ex);\n",
    "            //ps: 205;\n",
    "            cout << \"ps estimated :\\n\";\n",
    "            cout << \"\\t\" << this->s.getps() << \"\\n\";\n",
    "        };\n",
    "}\n"
   ]
  },
  {
   "cell_type": "code",
   "execution_count": null,
   "id": "21284a55",
   "metadata": {},
   "outputs": [],
   "source": [
    "Test t;\n",
    "t.test_snow1();\n"
   ]
  }
 ],
 "metadata": {},
 "nbformat": 4,
 "nbformat_minor": 5
}
