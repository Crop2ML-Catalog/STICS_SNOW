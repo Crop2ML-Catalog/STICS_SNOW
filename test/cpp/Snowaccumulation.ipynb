{
 "cells": [
  {
   "cell_type": "markdown",
   "id": "47efacba",
   "metadata": {},
   "source": [
    "# Automatic generation of Notebook using PyCropML\n",
    "    This notebook implements a crop model."
   ]
  },
  {
   "cell_type": "markdown",
   "id": "881a2366",
   "metadata": {},
   "source": [
    "### Model Snowaccumulation"
   ]
  },
  {
   "cell_type": "code",
   "execution_count": null,
   "id": "f1054029",
   "metadata": {},
   "outputs": [],
   "source": [
    "#include \"..\\..\\src\\cpp\\STICS_SNOW\\SnowState.cpp\"\n",
    "#include \"..\\..\\src\\cpp\\STICS_SNOW\\SnowRate.cpp\"\n",
    "#include \"..\\..\\src\\cpp\\STICS_SNOW\\SnowAuxiliary.cpp\"\n",
    "#include \"..\\..\\src\\cpp\\STICS_SNOW\\SnowExogenous.cpp\"\n",
    "#include \"..\\..\\src\\cpp\\STICS_SNOW\\Snowaccumulation.cpp\"\n"
   ]
  },
  {
   "cell_type": "code",
   "execution_count": null,
   "id": "6b2f5c4b",
   "metadata": {},
   "outputs": [],
   "source": [
    "class Test\n",
    "{\n",
    "    private:\n",
    "        SnowState s;\n",
    "        SnowState s1;\n",
    "        SnowRate r;\n",
    "        SnowAuxiliary a;\n",
    "        SnowExogenous ex;\n",
    "        Snowaccumulation mod;\n",
    "    public:\n",
    "        //check snow model\n",
    "\n",
    "        // test_snow1\n",
    "        void test_snow1()\n",
    "        {\n",
    "            this->mod.settrmax(1.0);\n",
    "            this->mod.settsmax(-2.0);\n",
    "            this->a.settmax(-1.0);\n",
    "            this->a.setprecip(0.5);\n",
    "            this->mod.Calculate_Model(s,s1, r, a, ex);\n",
    "            //Snowaccu: 0.33;\n",
    "            cout << \"Snowaccu estimated :\\n\";\n",
    "            cout << \"\\t\" << this->r.getSnowaccu() << \"\\n\";\n",
    "        };\n",
    "}\n"
   ]
  },
  {
   "cell_type": "code",
   "execution_count": null,
   "id": "c7df5ecf",
   "metadata": {},
   "outputs": [],
   "source": [
    "Test t;\n",
    "t.test_snow1();\n"
   ]
  }
 ],
 "metadata": {},
 "nbformat": 4,
 "nbformat_minor": 5
}
