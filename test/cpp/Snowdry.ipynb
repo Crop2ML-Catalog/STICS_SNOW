{
 "cells": [
  {
   "cell_type": "markdown",
   "id": "1f29cf3e",
   "metadata": {},
   "source": [
    "# Automatic generation of Notebook using PyCropML\n",
    "    This notebook implements a crop model."
   ]
  },
  {
   "cell_type": "markdown",
   "id": "985cb655",
   "metadata": {},
   "source": [
    "### Model Snowdry"
   ]
  },
  {
   "cell_type": "code",
   "execution_count": null,
   "id": "08a2eebb",
   "metadata": {},
   "outputs": [],
   "source": [
    "#include \"..\\..\\src\\cpp\\STICS_SNOW\\SnowState.cpp\"\n",
    "#include \"..\\..\\src\\cpp\\STICS_SNOW\\SnowRate.cpp\"\n",
    "#include \"..\\..\\src\\cpp\\STICS_SNOW\\SnowAuxiliary.cpp\"\n",
    "#include \"..\\..\\src\\cpp\\STICS_SNOW\\SnowExogenous.cpp\"\n",
    "#include \"..\\..\\src\\cpp\\STICS_SNOW\\Snowdry.cpp\"\n"
   ]
  },
  {
   "cell_type": "code",
   "execution_count": null,
   "id": "86c7f6cb",
   "metadata": {},
   "outputs": [],
   "source": [
    "class Test\n",
    "{\n",
    "    private:\n",
    "        SnowState s;\n",
    "        SnowState s1;\n",
    "        SnowRate r;\n",
    "        SnowAuxiliary a;\n",
    "        SnowExogenous ex;\n",
    "        Snowdry mod;\n",
    "    public:\n",
    "        //check snow model\n",
    "\n",
    "        // test_snow1\n",
    "        void test_snow1()\n",
    "        {\n",
    "            this->s.setM(5.0);\n",
    "            this->s.setMrf(3.0);\n",
    "            this->s.setSnowaccu(2.0);\n",
    "            this->s1.setSdry(10.0);\n",
    "            this->mod.Calculate_Model(s,s1, r, a, ex);\n",
    "            //Sdry: 10.0;\n",
    "            cout << \"Sdry estimated :\\n\";\n",
    "            cout << \"\\t\" << this->s.getSdry() << \"\\n\";\n",
    "        };\n",
    "}\n"
   ]
  },
  {
   "cell_type": "code",
   "execution_count": null,
   "id": "30d773e3",
   "metadata": {},
   "outputs": [],
   "source": [
    "Test t;\n",
    "t.test_snow1();\n"
   ]
  }
 ],
 "metadata": {},
 "nbformat": 4,
 "nbformat_minor": 5
}
