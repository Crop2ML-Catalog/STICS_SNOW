{
 "cells": [
  {
   "cell_type": "markdown",
   "id": "132da8c7",
   "metadata": {},
   "source": [
    "# Automatic generation of Notebook using PyCropML\n",
    "    This notebook implements a crop model."
   ]
  },
  {
   "cell_type": "markdown",
   "id": "5beef039",
   "metadata": {},
   "source": [
    "### Model Tempmin"
   ]
  },
  {
   "cell_type": "code",
   "execution_count": null,
   "id": "7f9a94a5",
   "metadata": {},
   "outputs": [],
   "source": [
    "#include \"..\\..\\src\\cpp\\STICS_SNOW\\SnowState.cpp\"\n",
    "#include \"..\\..\\src\\cpp\\STICS_SNOW\\SnowRate.cpp\"\n",
    "#include \"..\\..\\src\\cpp\\STICS_SNOW\\SnowAuxiliary.cpp\"\n",
    "#include \"..\\..\\src\\cpp\\STICS_SNOW\\SnowExogenous.cpp\"\n",
    "#include \"..\\..\\src\\cpp\\STICS_SNOW\\Tempmin.cpp\"\n"
   ]
  },
  {
   "cell_type": "code",
   "execution_count": null,
   "id": "d2b01347",
   "metadata": {},
   "outputs": [],
   "source": [
    "class Test\n",
    "{\n",
    "    private:\n",
    "        SnowState s;\n",
    "        SnowState s1;\n",
    "        SnowRate r;\n",
    "        SnowAuxiliary a;\n",
    "        SnowExogenous ex;\n",
    "        Tempmin mod;\n",
    "    public:\n",
    "        //check snow model\n",
    "\n",
    "        // test_snow1\n",
    "        void test_snow1()\n",
    "        {\n",
    "            this->mod.setprof(10.0);\n",
    "            this->mod.settminseuil(-0.5);\n",
    "            this->mod.settmaxseuil(0.0);\n",
    "            this->s.setSdepth_cm(5.2);\n",
    "            this->a.settmin(-0.05);\n",
    "            this->mod.Calculate_Model(s,s1, r, a, ex);\n",
    "            //tminrec: -0.28;\n",
    "            cout << \"tminrec estimated :\\n\";\n",
    "            cout << \"\\t\" << this->s.gettminrec() << \"\\n\";\n",
    "        };\n",
    "}\n"
   ]
  },
  {
   "cell_type": "code",
   "execution_count": null,
   "id": "28f2f529",
   "metadata": {},
   "outputs": [],
   "source": [
    "Test t;\n",
    "t.test_snow1();\n"
   ]
  }
 ],
 "metadata": {},
 "nbformat": 4,
 "nbformat_minor": 5
}
