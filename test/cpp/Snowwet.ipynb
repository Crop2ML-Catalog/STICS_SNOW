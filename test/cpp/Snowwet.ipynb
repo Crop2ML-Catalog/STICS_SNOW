{
 "cells": [
  {
   "cell_type": "markdown",
   "id": "eae4e0dd",
   "metadata": {},
   "source": [
    "# Automatic generation of Notebook using PyCropML\n",
    "    This notebook implements a crop model."
   ]
  },
  {
   "cell_type": "markdown",
   "id": "16ad9aad",
   "metadata": {},
   "source": [
    "### Model Snowwet"
   ]
  },
  {
   "cell_type": "code",
   "execution_count": null,
   "id": "8f2d7f3e",
   "metadata": {},
   "outputs": [],
   "source": [
    "#include \"..\\..\\src\\cpp\\STICS_SNOW\\SnowState.cpp\"\n",
    "#include \"..\\..\\src\\cpp\\STICS_SNOW\\SnowRate.cpp\"\n",
    "#include \"..\\..\\src\\cpp\\STICS_SNOW\\SnowAuxiliary.cpp\"\n",
    "#include \"..\\..\\src\\cpp\\STICS_SNOW\\SnowExogenous.cpp\"\n",
    "#include \"..\\..\\src\\cpp\\STICS_SNOW\\Snowwet.cpp\"\n"
   ]
  },
  {
   "cell_type": "code",
   "execution_count": null,
   "id": "66ae4dad",
   "metadata": {},
   "outputs": [],
   "source": [
    "class Test\n",
    "{\n",
    "    private:\n",
    "        SnowState s;\n",
    "        SnowState s1;\n",
    "        SnowRate r;\n",
    "        SnowAuxiliary a;\n",
    "        SnowExogenous ex;\n",
    "        Snowwet mod;\n",
    "    public:\n",
    "        //check snow model\n",
    "\n",
    "        // test_snow1\n",
    "        void test_snow1()\n",
    "        {\n",
    "            this->r.setM(0.0);\n",
    "            this->r.setMrf(2.0);\n",
    "            this->r.setSnowaccu(2.0);\n",
    "            this->a.setprecip(1.2);\n",
    "            this->s1.setSwet(5.0);\n",
    "            this->s.setSdry(0.279);\n",
    "            this->mod.Calculate_Model(s,s1, r, a, ex);\n",
    "            //Swet: 0.03;\n",
    "            cout << \"Swet estimated :\\n\";\n",
    "            cout << \"\\t\" << this->s.getSwet() << \"\\n\";\n",
    "        };\n",
    "}\n"
   ]
  },
  {
   "cell_type": "code",
   "execution_count": null,
   "id": "0d665ea8",
   "metadata": {},
   "outputs": [],
   "source": [
    "Test t;\n",
    "t.test_snow1();\n"
   ]
  }
 ],
 "metadata": {},
 "nbformat": 4,
 "nbformat_minor": 5
}
