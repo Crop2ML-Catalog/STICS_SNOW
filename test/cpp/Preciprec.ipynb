{
 "cells": [
  {
   "cell_type": "markdown",
   "id": "c6232740",
   "metadata": {},
   "source": [
    "# Automatic generation of Notebook using PyCropML\n",
    "    This notebook implements a crop model."
   ]
  },
  {
   "cell_type": "markdown",
   "id": "a3e6c1c2",
   "metadata": {},
   "source": [
    "### Model Preciprec"
   ]
  },
  {
   "cell_type": "code",
   "execution_count": null,
   "id": "4afa454c",
   "metadata": {},
   "outputs": [],
   "source": [
    "#include \"..\\..\\src\\cpp\\STICS_SNOW\\SnowState.cpp\"\n",
    "#include \"..\\..\\src\\cpp\\STICS_SNOW\\SnowRate.cpp\"\n",
    "#include \"..\\..\\src\\cpp\\STICS_SNOW\\SnowAuxiliary.cpp\"\n",
    "#include \"..\\..\\src\\cpp\\STICS_SNOW\\SnowExogenous.cpp\"\n",
    "#include \"..\\..\\src\\cpp\\STICS_SNOW\\Preciprec.cpp\"\n"
   ]
  },
  {
   "cell_type": "code",
   "execution_count": null,
   "id": "cf45ffba",
   "metadata": {},
   "outputs": [],
   "source": [
    "class Test\n",
    "{\n",
    "    private:\n",
    "        SnowState s;\n",
    "        SnowState s1;\n",
    "        SnowRate r;\n",
    "        SnowAuxiliary a;\n",
    "        SnowExogenous ex;\n",
    "        Preciprec mod;\n",
    "    public:\n",
    "        //check snow model\n",
    "\n",
    "        // test_snow1\n",
    "        void test_snow1()\n",
    "        {\n",
    "            this->mod.setrho(100.0);\n",
    "            this->s.setSdepth(0.087);\n",
    "            this->s1.setSdepth(0.085);\n",
    "            this->r.setMrf(0.27);\n",
    "            this->r.setSnowaccu(0.23);\n",
    "            this->a.setprecip(5.2);\n",
    "            this->s1.setSdry(10.0);\n",
    "            this->s.setSdry(10.0);\n",
    "            this->s.setSwet(0.03);\n",
    "            this->s1.setSwet(5.0);\n",
    "            this->mod.Calculate_Model(s,s1, r, a, ex);\n",
    "            //preciprec: 4.5;\n",
    "            cout << \"preciprec estimated :\\n\";\n",
    "            cout << \"\\t\" << this->s.getpreciprec() << \"\\n\";\n",
    "        };\n",
    "}\n"
   ]
  },
  {
   "cell_type": "code",
   "execution_count": null,
   "id": "89a37e27",
   "metadata": {},
   "outputs": [],
   "source": [
    "Test t;\n",
    "t.test_snow1();\n"
   ]
  }
 ],
 "metadata": {},
 "nbformat": 4,
 "nbformat_minor": 5
}
