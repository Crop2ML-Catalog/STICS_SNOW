{
 "cells": [
  {
   "cell_type": "markdown",
   "id": "9660b362",
   "metadata": {},
   "source": [
    "# Automatic generation of Notebook using PyCropML\n",
    "    This notebook implements a crop model."
   ]
  },
  {
   "cell_type": "markdown",
   "id": "7a07e5fd",
   "metadata": {},
   "source": [
    "### Model Snowmelt"
   ]
  },
  {
   "cell_type": "code",
   "execution_count": null,
   "id": "14482e96",
   "metadata": {},
   "outputs": [],
   "source": [
    "#include \"..\\..\\src\\cpp\\STICS_SNOW\\SnowState.cpp\"\n",
    "#include \"..\\..\\src\\cpp\\STICS_SNOW\\SnowRate.cpp\"\n",
    "#include \"..\\..\\src\\cpp\\STICS_SNOW\\SnowAuxiliary.cpp\"\n",
    "#include \"..\\..\\src\\cpp\\STICS_SNOW\\SnowExogenous.cpp\"\n",
    "#include \"..\\..\\src\\cpp\\STICS_SNOW\\Snowmelt.cpp\"\n"
   ]
  },
  {
   "cell_type": "code",
   "execution_count": null,
   "id": "3f17a826",
   "metadata": {},
   "outputs": [],
   "source": [
    "class Test\n",
    "{\n",
    "    private:\n",
    "        SnowState s;\n",
    "        SnowState s1;\n",
    "        SnowRate r;\n",
    "        SnowAuxiliary a;\n",
    "        SnowExogenous ex;\n",
    "        Snowmelt mod;\n",
    "    public:\n",
    "        //check snow model\n",
    "\n",
    "        // test_snow1\n",
    "        void test_snow1()\n",
    "        {\n",
    "            this->r.setM(10.0);\n",
    "            this->s.setps(200.0);\n",
    "            this->mod.Calculate_Model(s,s1, r, a, ex);\n",
    "            //Snowmelt: 0.05;\n",
    "            cout << \"Snowmelt estimated :\\n\";\n",
    "            cout << \"\\t\" << this->s.getSnowmelt() << \"\\n\";\n",
    "        };\n",
    "}\n"
   ]
  },
  {
   "cell_type": "code",
   "execution_count": null,
   "id": "7d8f10ea",
   "metadata": {},
   "outputs": [],
   "source": [
    "Test t;\n",
    "t.test_snow1();\n"
   ]
  }
 ],
 "metadata": {},
 "nbformat": 4,
 "nbformat_minor": 5
}
