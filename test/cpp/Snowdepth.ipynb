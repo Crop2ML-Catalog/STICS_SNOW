{
 "cells": [
  {
   "cell_type": "markdown",
   "id": "b3b319b7",
   "metadata": {},
   "source": [
    "# Automatic generation of Notebook using PyCropML\n",
    "    This notebook implements a crop model."
   ]
  },
  {
   "cell_type": "markdown",
   "id": "ea0ac057",
   "metadata": {},
   "source": [
    "### Model Snowdepth"
   ]
  },
  {
   "cell_type": "code",
   "execution_count": null,
   "id": "56c1c1f8",
   "metadata": {},
   "outputs": [],
   "source": [
    "#include \"..\\..\\src\\cpp\\STICS_SNOW\\SnowState.cpp\"\n",
    "#include \"..\\..\\src\\cpp\\STICS_SNOW\\SnowRate.cpp\"\n",
    "#include \"..\\..\\src\\cpp\\STICS_SNOW\\SnowAuxiliary.cpp\"\n",
    "#include \"..\\..\\src\\cpp\\STICS_SNOW\\SnowExogenous.cpp\"\n",
    "#include \"..\\..\\src\\cpp\\STICS_SNOW\\Snowdepth.cpp\"\n"
   ]
  },
  {
   "cell_type": "code",
   "execution_count": null,
   "id": "e474bf4a",
   "metadata": {},
   "outputs": [],
   "source": [
    "class Test\n",
    "{\n",
    "    private:\n",
    "        SnowState s;\n",
    "        SnowState s1;\n",
    "        SnowRate r;\n",
    "        SnowAuxiliary a;\n",
    "        SnowExogenous ex;\n",
    "        Snowdepth mod;\n",
    "    public:\n",
    "        //check snow model\n",
    "\n",
    "        // test_snow1\n",
    "        void test_snow1()\n",
    "        {\n",
    "            this->mod.setE(0.02);\n",
    "            this->mod.setrho(100.0);\n",
    "            this->r.setSnowaccu(5);\n",
    "            this->s1.setSdepth(0.05);\n",
    "            this->s.setSnowmelt(0.012);\n",
    "            this->mod.Calculate_Model(s,s1, r, a, ex);\n",
    "            //Sdepth: 0.09;\n",
    "            cout << \"Sdepth estimated :\\n\";\n",
    "            cout << \"\\t\" << this->s.getSdepth() << \"\\n\";\n",
    "        };\n",
    "}\n"
   ]
  },
  {
   "cell_type": "code",
   "execution_count": null,
   "id": "1e63b4f0",
   "metadata": {},
   "outputs": [],
   "source": [
    "Test t;\n",
    "t.test_snow1();\n"
   ]
  }
 ],
 "metadata": {},
 "nbformat": 4,
 "nbformat_minor": 5
}
